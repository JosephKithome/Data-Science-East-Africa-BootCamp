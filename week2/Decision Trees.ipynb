{
 "cells": [
  {
   "cell_type": "code",
   "execution_count": 3,
   "metadata": {},
   "outputs": [],
   "source": [
    "training_data =[\n",
    "    ['Green', 3, 'Mango'],\n",
    "    ['Yellow',3,'Mango'],\n",
    "    ['Red',1,'Grape'],\n",
    "    ['Red',1,'Grape'],\n",
    "    ['Yellow',3,'Lemon'],\n",
    "]"
   ]
  },
  {
   "cell_type": "code",
   "execution_count": 4,
   "metadata": {},
   "outputs": [],
   "source": [
    "header = ['color','diameter','label']"
   ]
  },
  {
   "cell_type": "code",
   "execution_count": 9,
   "metadata": {},
   "outputs": [
    {
     "data": {
      "text/plain": [
       "[['Green', 3, 'Mango'],\n",
       " ['Yellow', 3, 'Mango'],\n",
       " ['Red', 1, 'Grape'],\n",
       " ['Red', 1, 'Grape'],\n",
       " ['Yellow', 3, 'Lemon']]"
      ]
     },
     "execution_count": 9,
     "metadata": {},
     "output_type": "execute_result"
    }
   ],
   "source": [
    "training_data\n"
   ]
  },
  {
   "cell_type": "code",
   "execution_count": 10,
   "metadata": {},
   "outputs": [],
   "source": [
    "def unique_vals (rows,col):\n",
    "    \"\"\"\"find the unique values for a column in a dataset\"\"\"\n",
    "    return set([row[col] for row in rows])"
   ]
  },
  {
   "cell_type": "code",
   "execution_count": 14,
   "metadata": {},
   "outputs": [],
   "source": [
    "def class_counts(rows):\n",
    "    \"\"\"\"counts the number of each type of example in a dataset\"\"\"\n",
    "    counts = {} #a dictionary of label->count\n",
    "    for row in rows:\n",
    "        label =row[-1]\n",
    "        if label not in counts:\n",
    "            counts[label] = 0\n",
    "            counts [label] +=1\n",
    "    return counts    \n",
    "#class_counts(training_data)"
   ]
  },
  {
   "cell_type": "code",
   "execution_count": 15,
   "metadata": {},
   "outputs": [],
   "source": [
    "def is_numeric(value):\n",
    "    #test if the value is numeric\n",
    "    return isinstance(value, int) or isinstance(value,float)\n",
    "\n",
    "#is_numeric(7)\n",
    "#is_numeric(\"Red\")"
   ]
  },
  {
   "cell_type": "code",
   "execution_count": 45,
   "metadata": {},
   "outputs": [],
   "source": [
    "class Question:\n",
    "    \"\"\"\"a question is used to partition dataset.\n",
    "    This class just records a column number(eg. o for color)\n",
    "    and a column value(eg.green).The matchmethod is used to \n",
    "    compare the feature value in an example to the feature \n",
    "    value stored in the question.\n",
    "    \"\"\"\n",
    "    \n",
    "    def __init__(self,column,value):\n",
    "        self.column = column\n",
    "        self.value = value\n",
    "    def match(self, example):\n",
    "        \"\"\"\"compare the feature value in example to the feature value in this  question\"\"\"\n",
    "        val =example[self.colum]\n",
    "        if is_numeric(val):\n",
    "            return val >=self.value\n",
    "        else:\n",
    "            return val ==self.value\n",
    "    \n",
    "    def __repr__(self):\n",
    "        #this is just a helper function to print the question in a readable format.\n",
    "        condition = \"==\"\n",
    "        if is_numeric(self.value):\n",
    "            condition = \">=\"\n",
    "            return \"Is %s %s %s?\"%(\n",
    "        header[self.column],condition,str(self.value)) "
   ]
  },
  {
   "cell_type": "code",
   "execution_count": 47,
   "metadata": {},
   "outputs": [],
   "source": [
    "def Partition(rows,Question):\n",
    "    #partitions a dataset\n",
    "    #for each row in the dataset check if it matches the question\n",
    "    #if so add it to true rows,othrwise add to false rows\n",
    "    true_rows, false_rows =[],[]\n",
    "    for row in rows:\n",
    "        if Question.match(row):\n",
    "            true_rows.append(row)\n",
    "            \n",
    "        else:\n",
    "            false_rows.append(row)\n",
    "    return true_rows,false_rows \n",
    "    "
   ]
  },
  {
   "cell_type": "code",
   "execution_count": 48,
   "metadata": {},
   "outputs": [],
   "source": [
    "#lets partition the data based on whether its red\n",
    "def gini(rows):\n",
    "    counts =class_counts(rows)\n",
    "    impurity = 1\n",
    "    for lbl in counts:\n",
    "        prob_of_lbl = counts[lbl]/float(len(rows))\n",
    "        impurity -=prob_of_lbl**2\n",
    "    return impurity   "
   ]
  },
  {
   "cell_type": "code",
   "execution_count": 49,
   "metadata": {},
   "outputs": [],
   "source": [
    "def info_gain(left,right,current_uncertainity):\n",
    "    \n",
    "    p = float(len(left))/ (len(left))+ (len(right))\n",
    "    return current_uncertainity - p * gini(left)-(1-p)* gini(right)"
   ]
  },
  {
   "cell_type": "code",
   "execution_count": 51,
   "metadata": {},
   "outputs": [],
   "source": [
    "def find_best_split(rows):\n",
    "    best_gain = 0\n",
    "    best_Question = None\n",
    "    current_uncertainity = gini(rows)\n",
    "    n_features =len(rows[0])-1\n",
    "    \n",
    "    for col in range (n_features):\n",
    "        values = set([row[col] for row in rows])\n",
    "        for val in values:#for each value\n",
    "            question = Question(col,val)\n",
    "            #Try splitting the dataset\n",
    "            true_rows, false_rows = partition(rows,question)\n",
    "            #skip this split if it doesnt divide the dataset\n",
    "            \n",
    "            if len(true_rows) ==0 or  len(false_rows)==0:\n",
    "                continue\n",
    "                #calculate the information gain from this splot\n",
    "            gain =info_gain(true_rows,false_rows,current_uncertainity)    \n",
    "            \n",
    "            if gain >=best_gain:\n",
    "                best_gain,best_Question = gain,question\n",
    "    return best_gain,best_Question           "
   ]
  },
  {
   "cell_type": "code",
   "execution_count": null,
   "metadata": {},
   "outputs": [],
   "source": []
  },
  {
   "cell_type": "code",
   "execution_count": null,
   "metadata": {},
   "outputs": [],
   "source": []
  }
 ],
 "metadata": {
  "kernelspec": {
   "display_name": "Python 3",
   "language": "python",
   "name": "python3"
  },
  "language_info": {
   "codemirror_mode": {
    "name": "ipython",
    "version": 3
   },
   "file_extension": ".py",
   "mimetype": "text/x-python",
   "name": "python",
   "nbconvert_exporter": "python",
   "pygments_lexer": "ipython3",
   "version": "3.8.3"
  }
 },
 "nbformat": 4,
 "nbformat_minor": 4
}
